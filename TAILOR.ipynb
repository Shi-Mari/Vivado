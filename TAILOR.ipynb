{
 "cells": [
  {
   "cell_type": "code",
   "execution_count": null,
   "metadata": {},
   "outputs": [],
   "source": [
    "module TAILOR(\n",
    " input [15:0] x,\n",
    " output [15:0] y\n",
    "  );  \n",
    "    \n",
    "   logic [31:0] pow2;\n",
    "   assign pow2 = (x * x) >> 8;\n",
    "\n",
    "    logic [31:0] pow3;\n",
    "    assign pow3 = (pow2 * x) >> 8;\n",
    "\n",
    "    logic [31:0] term1;\n",
    "    assign term1 = (pow3 * 'h2a) >> 8;\n",
    "    logic [31:0] pow5;\n",
    "    assign pow5 = (pow2 * pow3) >> 8;\n",
    "\n",
    "    logic [31:0] term2;\n",
    "    assign term2 = (pow5 * 'h02) >> 8;\n",
    "    logic [31:0] term0_minus_term1;\n",
    "    assign term0_minus_term1 = x - term1;\n",
    "\n",
    "    \n",
    "    assign y = term0_minus_term1 + term2;\n",
    "    \n",
    "endmodule"
   ]
  }
 ],
 "metadata": {
  "language_info": {
   "name": "python"
  },
  "orig_nbformat": 4
 },
 "nbformat": 4,
 "nbformat_minor": 2
}
