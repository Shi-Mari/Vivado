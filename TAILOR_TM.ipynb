{
 "cells": [
  {
   "cell_type": "code",
   "execution_count": null,
   "metadata": {},
   "outputs": [],
   "source": [
    "module TAILOR_TM(\n",
    "input clk,\n",
    "input rst_i,\n",
    "input start_i,\n",
    "input logic [15:0] x,\n",
    "output logic [15:0] y\n",
    ");\n",
    "\n",
    "logic [31:0] pow;\n",
    "logic [31:0] x_3;\n",
    "logic [31:0] x_5;\n",
    "logic [31:0] x_2; \n",
    "\n",
    "always @(posedge clk)\n",
    "    if (rst_i) begin\n",
    "        pow <= 0;\n",
    "        x_2 <= 0;\n",
    "        x_3 <= 0;\n",
    "        x_5 <= 0;\n",
    "    end else begin\n",
    "       if(pow == 0) begin\n",
    "            if(start_i)\n",
    "                pow <= 1;\n",
    "        end else begin\n",
    "            case (pow)  \n",
    "                1 : x_2 <= x * x >> 8;\n",
    "                2 : x_3 <= x_2 * x >> 8;\n",
    "                3 : x_5 <= x_2 * x_3 >> 8;\n",
    "                4 : x_3 <= x_3 * 'h2a >> 8;\n",
    "                5 : x_5 <= x_5 * 'h02 >> 8;\n",
    "                6 : y <= x - x_3 + x_5;\n",
    "            endcase\n",
    "            pow <= pow + 1;\n",
    "            if(pow == 7)\n",
    "                pow <= 0;\n",
    "        end"
   ]
  }
 ],
 "metadata": {
  "language_info": {
   "name": "python"
  },
  "orig_nbformat": 4
 },
 "nbformat": 4,
 "nbformat_minor": 2
}
