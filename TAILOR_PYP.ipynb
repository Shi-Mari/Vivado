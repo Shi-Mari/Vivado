{
 "cells": [
  {
   "cell_type": "code",
   "execution_count": null,
   "metadata": {},
   "outputs": [],
   "source": [
    "module TAILOR_PIP(\n",
    "input clk,\n",
    "input rst_i,\n",
    "input logic [15:0] x,\n",
    "output logic [15:0] y\n",
    "    );\n",
    "    \n",
    "    logic [32:0] x_buf [0:3];\n",
    "    logic [32:0] x2 [0:1];\n",
    "    logic [32:0] x3 [0:1];\n",
    "    logic [32:0] x5;\n",
    "    logic [32:0] x3C;\n",
    "    logic [32:0] x5C;\n",
    "    \n",
    "    \n",
    "    always @(posedge clk)\n",
    "    if (rst_i) begin\n",
    "        for (int i = 0; i <= 3; i++) begin\n",
    "            x_buf [i] <= 0;\n",
    "        end \n",
    "        for (int i = 0; i <= 1; i++) begin\n",
    "            x2 [i] <= 0;\n",
    "        end    \n",
    "        for (int i = 0; i <= 1; i++) begin\n",
    "            x3 [i] <= 0;\n",
    "        end \n",
    "        x5 <= 0;\n",
    "        x3C <= 0;\n",
    "        x5C <= 0;   \n",
    "    end else begin\n",
    "     x2[0] <= x*x >> 8;\n",
    "     x2[1] <= x2[0]; \n",
    "     x_buf[0] <= x;\n",
    "     \n",
    "     x3[0] <= x2[0]*x_buf[0] >> 8;\n",
    "     x_buf[1] <= x_buf[0];\n",
    "     \n",
    "     x5 <= x3[0]*x2[1] >> 8;\n",
    "     x_buf[2] <= x_buf[1];\n",
    "     x3[1] <= x3[0];\n",
    "     x3C <= x3[1]*'h2a >> 8;\n",
    "     x5C <= x5*'h02 >> 8;\n",
    "     x_buf[3] <= x_buf[2];\n",
    "     \n",
    "     y <= x_buf[3] - x3C + x5C;\n",
    "     end\n",
    "       \n",
    "endmodule"
   ]
  }
 ],
 "metadata": {
  "language_info": {
   "name": "python"
  },
  "orig_nbformat": 4
 },
 "nbformat": 4,
 "nbformat_minor": 2
}
